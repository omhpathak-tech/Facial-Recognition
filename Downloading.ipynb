{
 "cells": [
  {
   "cell_type": "code",
   "execution_count": 6,
   "id": "challenging-sword",
   "metadata": {},
   "outputs": [
    {
     "name": "stdout",
     "output_type": "stream",
     "text": [
      "Starting download: http://dlib.net/files/shape_predictor_68_face_landmarks.dat.bz2\n",
      "Downloaded to: models\\landmarks.dat\n"
     ]
    }
   ],
   "source": [
    "# download the face landmarks model for face alignment \n",
    "import bz2 \n",
    "import os \n",
    "from urllib.request import urlopen\n",
    "\n",
    "def download_landmarks(landmarks_path):\n",
    "    url = 'http://dlib.net/files/shape_predictor_68_face_landmarks.dat.bz2'\n",
    "    decompressor = bz2.BZ2Decompressor()\n",
    "    print(\"Starting download:\", url)\n",
    "    with urlopen(url) as src, open(landmarks_path, 'wb') as dst:\n",
    "        data = src.read(1024)\n",
    "        while len(data) > 0:\n",
    "            dst.write(decompressor.decompress(data))\n",
    "            data = src.read(1024)\n",
    "    print(\"Downloaded to:\", landmarks_path)\n",
    "\n",
    "landmarks_dir = 'models'\n",
    "landmarks_path = os.path.join(landmarks_dir, 'landmarks.dat')\n",
    "if not os.path.exists(landmarks_path):\n",
    "    os.makedirs(landmarks_dir)\n",
    "    download_landmarks(landmarks_path)"
   ]
  },
  {
   "cell_type": "code",
   "execution_count": null,
   "id": "annoying-packing",
   "metadata": {},
   "outputs": [],
   "source": []
  }
 ],
 "metadata": {
  "kernelspec": {
   "display_name": "Python 3",
   "language": "python",
   "name": "python3"
  },
  "language_info": {
   "codemirror_mode": {
    "name": "ipython",
    "version": 3
   },
   "file_extension": ".py",
   "mimetype": "text/x-python",
   "name": "python",
   "nbconvert_exporter": "python",
   "pygments_lexer": "ipython3",
   "version": "3.8.8"
  }
 },
 "nbformat": 4,
 "nbformat_minor": 5
}
